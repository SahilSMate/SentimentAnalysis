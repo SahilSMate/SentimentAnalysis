{
 "cells": [
  {
   "cell_type": "markdown",
   "id": "39034624",
   "metadata": {},
   "source": [
    "# My Jupyter Notebook on IBM Watson Studio"
   ]
  },
  {
   "cell_type": "markdown",
   "id": "250a65fa",
   "metadata": {},
   "source": [
    "### Sahil Mate\n",
    "Data Scientist\n"
   ]
  },
  {
   "cell_type": "markdown",
   "id": "1adb9935",
   "metadata": {},
   "source": [
    "##### I am interested in data science because I am passionated about finding insights through data."
   ]
  },
  {
   "cell_type": "markdown",
   "id": "ee7e05a9",
   "metadata": {},
   "source": [
    "### This code will print hello world"
   ]
  },
  {
   "cell_type": "code",
   "execution_count": 1,
   "id": "0e5fd850",
   "metadata": {},
   "outputs": [
    {
     "name": "stdout",
     "output_type": "stream",
     "text": [
      "hello world\n"
     ]
    }
   ],
   "source": [
    "print('hello world')"
   ]
  },
  {
   "cell_type": "markdown",
   "id": "6cecb9af",
   "metadata": {},
   "source": [
    "- email: matesahil98@gmail.com\n",
    " ##### my hobbies\n",
    " 1. football\n",
    " 2. chess"
   ]
  },
  {
   "cell_type": "code",
   "execution_count": null,
   "id": "02c481a1",
   "metadata": {},
   "outputs": [],
   "source": []
  }
 ],
 "metadata": {
  "kernelspec": {
   "display_name": "Python 3 (ipykernel)",
   "language": "python",
   "name": "python3"
  },
  "language_info": {
   "codemirror_mode": {
    "name": "ipython",
    "version": 3
   },
   "file_extension": ".py",
   "mimetype": "text/x-python",
   "name": "python",
   "nbconvert_exporter": "python",
   "pygments_lexer": "ipython3",
   "version": "3.9.12"
  }
 },
 "nbformat": 4,
 "nbformat_minor": 5
}
